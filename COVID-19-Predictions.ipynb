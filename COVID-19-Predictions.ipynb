{
 "cells": [
  {
   "cell_type": "code",
   "execution_count": 1,
   "metadata": {},
   "outputs": [
    {
     "data": {
      "text/html": [
       "<div>\n",
       "<style scoped>\n",
       "    .dataframe tbody tr th:only-of-type {\n",
       "        vertical-align: middle;\n",
       "    }\n",
       "\n",
       "    .dataframe tbody tr th {\n",
       "        vertical-align: top;\n",
       "    }\n",
       "\n",
       "    .dataframe thead th {\n",
       "        text-align: right;\n",
       "    }\n",
       "</style>\n",
       "<table border=\"1\" class=\"dataframe\">\n",
       "  <thead>\n",
       "    <tr style=\"text-align: right;\">\n",
       "      <th></th>\n",
       "      <th>day</th>\n",
       "      <th>cases</th>\n",
       "    </tr>\n",
       "  </thead>\n",
       "  <tbody>\n",
       "    <tr>\n",
       "      <th>64</th>\n",
       "      <td>2020-04-19</td>\n",
       "      <td>145742</td>\n",
       "    </tr>\n",
       "    <tr>\n",
       "      <th>65</th>\n",
       "      <td>2020-04-20</td>\n",
       "      <td>147065</td>\n",
       "    </tr>\n",
       "    <tr>\n",
       "      <th>66</th>\n",
       "      <td>2020-04-21</td>\n",
       "      <td>148453</td>\n",
       "    </tr>\n",
       "  </tbody>\n",
       "</table>\n",
       "</div>"
      ],
      "text/plain": [
       "          day   cases\n",
       "64 2020-04-19  145742\n",
       "65 2020-04-20  147065\n",
       "66 2020-04-21  148453"
      ]
     },
     "execution_count": 1,
     "metadata": {},
     "output_type": "execute_result"
    }
   ],
   "source": [
    "from scipy.optimize import curve_fit\n",
    "import datetime as dt\n",
    "import pandas as pd\n",
    "import numpy as np\n",
    "import altair as alt\n",
    "\n",
    "data = pd.read_csv(\"corona_infections.csv\", header=0, names=[\"day\", \"cases\"])\n",
    "data[\"day\"] = [dt.datetime.strptime(d + ' 2020', \"%b %d %Y\") for d in data[\"day\"]]\n",
    "data.tail(3)"
   ]
  },
  {
   "cell_type": "code",
   "execution_count": 2,
   "metadata": {},
   "outputs": [
    {
     "data": {
      "text/html": [
       "\n",
       "<div id=\"altair-viz-d24185d8cd9b44168a0de9c484ba8896\"></div>\n",
       "<script type=\"text/javascript\">\n",
       "  (function(spec, embedOpt){\n",
       "    const outputDiv = document.getElementById(\"altair-viz-d24185d8cd9b44168a0de9c484ba8896\");\n",
       "    const paths = {\n",
       "      \"vega\": \"https://cdn.jsdelivr.net/npm//vega@5?noext\",\n",
       "      \"vega-lib\": \"https://cdn.jsdelivr.net/npm//vega-lib?noext\",\n",
       "      \"vega-lite\": \"https://cdn.jsdelivr.net/npm//vega-lite@4.0.2?noext\",\n",
       "      \"vega-embed\": \"https://cdn.jsdelivr.net/npm//vega-embed@6?noext\",\n",
       "    };\n",
       "\n",
       "    function loadScript(lib) {\n",
       "      return new Promise(function(resolve, reject) {\n",
       "        var s = document.createElement('script');\n",
       "        s.src = paths[lib];\n",
       "        s.async = true;\n",
       "        s.onload = () => resolve(paths[lib]);\n",
       "        s.onerror = () => reject(`Error loading script: ${paths[lib]}`);\n",
       "        document.getElementsByTagName(\"head\")[0].appendChild(s);\n",
       "      });\n",
       "    }\n",
       "\n",
       "    function showError(err) {\n",
       "      outputDiv.innerHTML = `<div class=\"error\" style=\"color:red;\">${err}</div>`;\n",
       "      throw err;\n",
       "    }\n",
       "\n",
       "    function displayChart(vegaEmbed) {\n",
       "      vegaEmbed(outputDiv, spec, embedOpt)\n",
       "        .catch(err => showError(`Javascript Error: ${err.message}<br>This usually means there's a typo in your chart specification. See the javascript console for the full traceback.`));\n",
       "    }\n",
       "\n",
       "    if(typeof define === \"function\" && define.amd) {\n",
       "      requirejs.config({paths});\n",
       "      require([\"vega-embed\"], displayChart, err => showError(`Error loading script: ${err.message}`));\n",
       "    } else if (typeof vegaEmbed === \"function\") {\n",
       "      displayChart(vegaEmbed);\n",
       "    } else {\n",
       "      loadScript(\"vega\")\n",
       "        .then(() => loadScript(\"vega-lite\"))\n",
       "        .then(() => loadScript(\"vega-embed\"))\n",
       "        .catch(showError)\n",
       "        .then(() => displayChart(vegaEmbed));\n",
       "    }\n",
       "  })({\"config\": {\"view\": {\"continuousWidth\": 400, \"continuousHeight\": 300}}, \"data\": {\"name\": \"data-15d2fff83a59aeb7dc8eacb425302ab9\"}, \"mark\": {\"type\": \"line\", \"point\": true}, \"encoding\": {\"x\": {\"type\": \"ordinal\", \"field\": \"day\", \"timeUnit\": \"monthdate\", \"title\": \"Tag\"}, \"y\": {\"type\": \"quantitative\", \"field\": \"cases\", \"title\": \"Corona-Fallzahlen\"}}, \"height\": 300, \"width\": 850, \"$schema\": \"https://vega.github.io/schema/vega-lite/v4.0.2.json\", \"datasets\": {\"data-15d2fff83a59aeb7dc8eacb425302ab9\": [{\"day\": \"2020-02-15T00:00:00\", \"cases\": 16}, {\"day\": \"2020-02-16T00:00:00\", \"cases\": 16}, {\"day\": \"2020-02-17T00:00:00\", \"cases\": 16}, {\"day\": \"2020-02-18T00:00:00\", \"cases\": 16}, {\"day\": \"2020-02-19T00:00:00\", \"cases\": 16}, {\"day\": \"2020-02-20T00:00:00\", \"cases\": 16}, {\"day\": \"2020-02-21T00:00:00\", \"cases\": 16}, {\"day\": \"2020-02-22T00:00:00\", \"cases\": 16}, {\"day\": \"2020-02-23T00:00:00\", \"cases\": 16}, {\"day\": \"2020-02-24T00:00:00\", \"cases\": 16}, {\"day\": \"2020-02-25T00:00:00\", \"cases\": 18}, {\"day\": \"2020-02-26T00:00:00\", \"cases\": 26}, {\"day\": \"2020-02-27T00:00:00\", \"cases\": 48}, {\"day\": \"2020-02-28T00:00:00\", \"cases\": 74}, {\"day\": \"2020-02-29T00:00:00\", \"cases\": 79}, {\"day\": \"2020-03-01T00:00:00\", \"cases\": 130}, {\"day\": \"2020-03-02T00:00:00\", \"cases\": 165}, {\"day\": \"2020-03-03T00:00:00\", \"cases\": 203}, {\"day\": \"2020-03-04T00:00:00\", \"cases\": 262}, {\"day\": \"2020-03-05T00:00:00\", \"cases\": 545}, {\"day\": \"2020-03-06T00:00:00\", \"cases\": 670}, {\"day\": \"2020-03-07T00:00:00\", \"cases\": 800}, {\"day\": \"2020-03-08T00:00:00\", \"cases\": 1040}, {\"day\": \"2020-03-09T00:00:00\", \"cases\": 1224}, {\"day\": \"2020-03-10T00:00:00\", \"cases\": 1565}, {\"day\": \"2020-03-11T00:00:00\", \"cases\": 1966}, {\"day\": \"2020-03-12T00:00:00\", \"cases\": 2745}, {\"day\": \"2020-03-13T00:00:00\", \"cases\": 3675}, {\"day\": \"2020-03-14T00:00:00\", \"cases\": 4599}, {\"day\": \"2020-03-15T00:00:00\", \"cases\": 5813}, {\"day\": \"2020-03-16T00:00:00\", \"cases\": 7272}, {\"day\": \"2020-03-17T00:00:00\", \"cases\": 9367}, {\"day\": \"2020-03-18T00:00:00\", \"cases\": 12327}, {\"day\": \"2020-03-19T00:00:00\", \"cases\": 15320}, {\"day\": \"2020-03-20T00:00:00\", \"cases\": 19848}, {\"day\": \"2020-03-21T00:00:00\", \"cases\": 22364}, {\"day\": \"2020-03-22T00:00:00\", \"cases\": 24873}, {\"day\": \"2020-03-23T00:00:00\", \"cases\": 29056}, {\"day\": \"2020-03-24T00:00:00\", \"cases\": 32991}, {\"day\": \"2020-03-25T00:00:00\", \"cases\": 37323}, {\"day\": \"2020-03-26T00:00:00\", \"cases\": 43938}, {\"day\": \"2020-03-27T00:00:00\", \"cases\": 50871}, {\"day\": \"2020-03-28T00:00:00\", \"cases\": 57695}, {\"day\": \"2020-03-29T00:00:00\", \"cases\": 62435}, {\"day\": \"2020-03-30T00:00:00\", \"cases\": 66885}, {\"day\": \"2020-03-31T00:00:00\", \"cases\": 71808}, {\"day\": \"2020-04-01T00:00:00\", \"cases\": 77981}, {\"day\": \"2020-04-02T00:00:00\", \"cases\": 84794}, {\"day\": \"2020-04-03T00:00:00\", \"cases\": 91159}, {\"day\": \"2020-04-04T00:00:00\", \"cases\": 96092}, {\"day\": \"2020-04-05T00:00:00\", \"cases\": 100123}, {\"day\": \"2020-04-06T00:00:00\", \"cases\": 103375}, {\"day\": \"2020-04-07T00:00:00\", \"cases\": 107663}, {\"day\": \"2020-04-08T00:00:00\", \"cases\": 113296}, {\"day\": \"2020-04-09T00:00:00\", \"cases\": 118235}, {\"day\": \"2020-04-10T00:00:00\", \"cases\": 122171}, {\"day\": \"2020-04-11T00:00:00\", \"cases\": 125452}, {\"day\": \"2020-04-12T00:00:00\", \"cases\": 127854}, {\"day\": \"2020-04-13T00:00:00\", \"cases\": 130072}, {\"day\": \"2020-04-14T00:00:00\", \"cases\": 132210}, {\"day\": \"2020-04-15T00:00:00\", \"cases\": 134753}, {\"day\": \"2020-04-16T00:00:00\", \"cases\": 137698}, {\"day\": \"2020-04-17T00:00:00\", \"cases\": 141397}, {\"day\": \"2020-04-18T00:00:00\", \"cases\": 143724}, {\"day\": \"2020-04-19T00:00:00\", \"cases\": 145742}, {\"day\": \"2020-04-20T00:00:00\", \"cases\": 147065}, {\"day\": \"2020-04-21T00:00:00\", \"cases\": 148453}]}}, {\"mode\": \"vega-lite\"});\n",
       "</script>"
      ],
      "text/plain": [
       "alt.Chart(...)"
      ]
     },
     "execution_count": 2,
     "metadata": {},
     "output_type": "execute_result"
    }
   ],
   "source": [
    "infections = alt.Chart(data).mark_line(point=True).encode(\n",
    "    alt.X(\"monthdate(day):O\", title=\"Tag\"),\n",
    "    alt.Y(\"cases:Q\", title=\"Corona-Fallzahlen\"))\n",
    "infections.properties(width=850, height=300)"
   ]
  },
  {
   "cell_type": "code",
   "execution_count": 3,
   "metadata": {},
   "outputs": [
    {
     "name": "stdout",
     "output_type": "stream",
     "text": [
      "[737512 737513 737514 737515 737516 737517 737518 737519 737520 737521\n",
      " 737522 737523 737524 737525 737526 737527 737528 737529 737530 737531\n",
      " 737532 737533 737534 737535 737536]\n",
      "[ 57695  62435  66885  71808  77981  84794  91159  96092 100123 103375\n",
      " 107663 113296 118235 122171 125452 127854 130072 132210 134753 137698\n",
      " 141397 143724 145742 147065 148453]\n"
     ]
    }
   ],
   "source": [
    "first_day_with_quarantine_effect = dt.datetime(year=2020, month=3, day=28)\n",
    "cases_since_quarantine = np.array(\n",
    "    data[data[\"day\"] >= first_day_with_quarantine_effect][\"cases\"])\n",
    "day_no_since_quarantine = np.array(\n",
    "    [d.toordinal() for d in data[data[\"day\"] >= first_day_with_quarantine_effect][\"day\"]])\n",
    "print(day_no_since_quarantine)\n",
    "print(cases_since_quarantine)"
   ]
  },
  {
   "cell_type": "code",
   "execution_count": 4,
   "metadata": {},
   "outputs": [
    {
     "name": "stdout",
     "output_type": "stream",
     "text": [
      "mins: [0, 737512, 1e-12, 148453]\n",
      "maxs: [148453, 737942, 100.0, 83500000.0]\n",
      "[9.33266619e+04 7.37518644e+05 1.79050690e-09 1.76960274e+07]\n"
     ]
    }
   ],
   "source": [
    "def corona_curve(x, b0, x0, k, s):\n",
    "    return s * 1 / (1 + np.exp(-1 * k * s * (x - x0)) * (s / b0 - 1))\n",
    "\n",
    "print(\"mins:\", [0, day_no_since_quarantine[0], 1e-12, cases_since_quarantine[-1]])\n",
    "print(\"maxs:\", [cases_since_quarantine[-1], dt.datetime(year=2021, month=6, day=1).toordinal(), 1e2, 8.35e7])\n",
    "\n",
    "params, _ = curve_fit(\n",
    "    corona_curve, \n",
    "    xdata=day_no_since_quarantine, \n",
    "    ydata=cases_since_quarantine, \n",
    "    p0=[cases_since_quarantine[0], dt.datetime(year=2020, month=3, day=28).toordinal(), 8e-9, 5.6e7],\n",
    "    bounds=(\n",
    "        [0, day_no_since_quarantine[0], 1e-11, cases_since_quarantine[-1]], \n",
    "        [cases_since_quarantine[-1], dt.datetime(year=2021, month=6, day=1).toordinal(), 1e-8, 8.35e7])\n",
    ")\n",
    "print(params)"
   ]
  },
  {
   "cell_type": "code",
   "execution_count": 5,
   "metadata": {},
   "outputs": [
    {
     "data": {
      "text/html": [
       "<div>\n",
       "<style scoped>\n",
       "    .dataframe tbody tr th:only-of-type {\n",
       "        vertical-align: middle;\n",
       "    }\n",
       "\n",
       "    .dataframe tbody tr th {\n",
       "        vertical-align: top;\n",
       "    }\n",
       "\n",
       "    .dataframe thead th {\n",
       "        text-align: right;\n",
       "    }\n",
       "</style>\n",
       "<table border=\"1\" class=\"dataframe\">\n",
       "  <thead>\n",
       "    <tr style=\"text-align: right;\">\n",
       "      <th></th>\n",
       "      <th>day</th>\n",
       "      <th>curve</th>\n",
       "    </tr>\n",
       "  </thead>\n",
       "  <tbody>\n",
       "    <tr>\n",
       "      <th>0</th>\n",
       "      <td>2020-03-01</td>\n",
       "      <td>32251.623167</td>\n",
       "    </tr>\n",
       "    <tr>\n",
       "      <th>1</th>\n",
       "      <td>2020-03-02</td>\n",
       "      <td>33287.919792</td>\n",
       "    </tr>\n",
       "    <tr>\n",
       "      <th>2</th>\n",
       "      <td>2020-03-03</td>\n",
       "      <td>34357.449531</td>\n",
       "    </tr>\n",
       "    <tr>\n",
       "      <th>3</th>\n",
       "      <td>2020-03-04</td>\n",
       "      <td>35461.273912</td>\n",
       "    </tr>\n",
       "    <tr>\n",
       "      <th>4</th>\n",
       "      <td>2020-03-05</td>\n",
       "      <td>36600.488094</td>\n",
       "    </tr>\n",
       "    <tr>\n",
       "      <th>...</th>\n",
       "      <td>...</td>\n",
       "      <td>...</td>\n",
       "    </tr>\n",
       "    <tr>\n",
       "      <th>57</th>\n",
       "      <td>2020-04-27</td>\n",
       "      <td>194489.489053</td>\n",
       "    </tr>\n",
       "    <tr>\n",
       "      <th>58</th>\n",
       "      <td>2020-04-28</td>\n",
       "      <td>200679.524865</td>\n",
       "    </tr>\n",
       "    <tr>\n",
       "      <th>59</th>\n",
       "      <td>2020-04-29</td>\n",
       "      <td>207064.240671</td>\n",
       "    </tr>\n",
       "    <tr>\n",
       "      <th>60</th>\n",
       "      <td>2020-04-30</td>\n",
       "      <td>213649.608672</td>\n",
       "    </tr>\n",
       "    <tr>\n",
       "      <th>61</th>\n",
       "      <td>2020-05-01</td>\n",
       "      <td>220441.774554</td>\n",
       "    </tr>\n",
       "  </tbody>\n",
       "</table>\n",
       "<p>62 rows × 2 columns</p>\n",
       "</div>"
      ],
      "text/plain": [
       "          day          curve\n",
       "0  2020-03-01   32251.623167\n",
       "1  2020-03-02   33287.919792\n",
       "2  2020-03-03   34357.449531\n",
       "3  2020-03-04   35461.273912\n",
       "4  2020-03-05   36600.488094\n",
       "..        ...            ...\n",
       "57 2020-04-27  194489.489053\n",
       "58 2020-04-28  200679.524865\n",
       "59 2020-04-29  207064.240671\n",
       "60 2020-04-30  213649.608672\n",
       "61 2020-05-01  220441.774554\n",
       "\n",
       "[62 rows x 2 columns]"
      ]
     },
     "execution_count": 5,
     "metadata": {},
     "output_type": "execute_result"
    }
   ],
   "source": [
    "data = data[data[\"day\"] >= dt.datetime(year=2020, month=3, day=1)]\n",
    "projection_data = data.copy()\n",
    "projection_data = projection_data.drop([\"cases\"], axis=1)\n",
    "projection_data[\"curve\"] = [corona_curve(d.toordinal(), *params) for d in projection_data[\"day\"]]\n",
    "for i in range(10):\n",
    "    projection_data = projection_data.append(pd.DataFrame(\n",
    "        [[list(projection_data[\"day\"])[-1] + dt.timedelta(days=1), \n",
    "          corona_curve((list(projection_data[\"day\"])[-1] + dt.timedelta(days=1)).toordinal(), *params)]],\n",
    "        columns=(\"day\", \"curve\")\n",
    "    ), ignore_index=True)\n",
    "projection_data"
   ]
  },
  {
   "cell_type": "code",
   "execution_count": 6,
   "metadata": {},
   "outputs": [
    {
     "data": {
      "text/html": [
       "\n",
       "<div id=\"altair-viz-3181482d627448a4a2d23cb06ee5b897\"></div>\n",
       "<script type=\"text/javascript\">\n",
       "  (function(spec, embedOpt){\n",
       "    const outputDiv = document.getElementById(\"altair-viz-3181482d627448a4a2d23cb06ee5b897\");\n",
       "    const paths = {\n",
       "      \"vega\": \"https://cdn.jsdelivr.net/npm//vega@5?noext\",\n",
       "      \"vega-lib\": \"https://cdn.jsdelivr.net/npm//vega-lib?noext\",\n",
       "      \"vega-lite\": \"https://cdn.jsdelivr.net/npm//vega-lite@4.0.2?noext\",\n",
       "      \"vega-embed\": \"https://cdn.jsdelivr.net/npm//vega-embed@6?noext\",\n",
       "    };\n",
       "\n",
       "    function loadScript(lib) {\n",
       "      return new Promise(function(resolve, reject) {\n",
       "        var s = document.createElement('script');\n",
       "        s.src = paths[lib];\n",
       "        s.async = true;\n",
       "        s.onload = () => resolve(paths[lib]);\n",
       "        s.onerror = () => reject(`Error loading script: ${paths[lib]}`);\n",
       "        document.getElementsByTagName(\"head\")[0].appendChild(s);\n",
       "      });\n",
       "    }\n",
       "\n",
       "    function showError(err) {\n",
       "      outputDiv.innerHTML = `<div class=\"error\" style=\"color:red;\">${err}</div>`;\n",
       "      throw err;\n",
       "    }\n",
       "\n",
       "    function displayChart(vegaEmbed) {\n",
       "      vegaEmbed(outputDiv, spec, embedOpt)\n",
       "        .catch(err => showError(`Javascript Error: ${err.message}<br>This usually means there's a typo in your chart specification. See the javascript console for the full traceback.`));\n",
       "    }\n",
       "\n",
       "    if(typeof define === \"function\" && define.amd) {\n",
       "      requirejs.config({paths});\n",
       "      require([\"vega-embed\"], displayChart, err => showError(`Error loading script: ${err.message}`));\n",
       "    } else if (typeof vegaEmbed === \"function\") {\n",
       "      displayChart(vegaEmbed);\n",
       "    } else {\n",
       "      loadScript(\"vega\")\n",
       "        .then(() => loadScript(\"vega-lite\"))\n",
       "        .then(() => loadScript(\"vega-embed\"))\n",
       "        .catch(showError)\n",
       "        .then(() => displayChart(vegaEmbed));\n",
       "    }\n",
       "  })({\"config\": {\"view\": {\"continuousWidth\": 400, \"continuousHeight\": 300}}, \"layer\": [{\"data\": {\"name\": \"data-b40536a3fde8c8e232a5269321eae6f6\"}, \"mark\": {\"type\": \"line\", \"point\": false}, \"encoding\": {\"x\": {\"type\": \"ordinal\", \"field\": \"day\", \"timeUnit\": \"monthdate\", \"title\": \"Tag\"}, \"y\": {\"type\": \"quantitative\", \"field\": \"curve\", \"title\": \"Fallzahlen (Projektion)\"}}}, {\"data\": {\"name\": \"data-377f548e5480e604a871ed36b19bf97e\"}, \"mark\": {\"type\": \"line\", \"color\": \"red\", \"point\": true}, \"encoding\": {\"x\": {\"type\": \"ordinal\", \"field\": \"day\", \"timeUnit\": \"monthdate\", \"title\": \"Tag\"}, \"y\": {\"type\": \"quantitative\", \"field\": \"cases\", \"title\": \"Corona-Fallzahlen\"}}}], \"height\": 400, \"width\": 600, \"$schema\": \"https://vega.github.io/schema/vega-lite/v4.0.2.json\", \"datasets\": {\"data-b40536a3fde8c8e232a5269321eae6f6\": [{\"day\": \"2020-03-01T00:00:00\", \"curve\": 32251.623166800604}, {\"day\": \"2020-03-02T00:00:00\", \"curve\": 33287.91979231113}, {\"day\": \"2020-03-03T00:00:00\", \"curve\": 34357.44953135322}, {\"day\": \"2020-03-04T00:00:00\", \"curve\": 35461.273912042714}, {\"day\": \"2020-03-05T00:00:00\", \"curve\": 36600.48809368214}, {\"day\": \"2020-03-06T00:00:00\", \"curve\": 37776.22191422676}, {\"day\": \"2020-03-07T00:00:00\", \"curve\": 38989.6409691925}, {\"day\": \"2020-03-08T00:00:00\", \"curve\": 40241.947722871446}, {\"day\": \"2020-03-09T00:00:00\", \"curve\": 41534.38265273887}, {\"day\": \"2020-03-10T00:00:00\", \"curve\": 42868.225427954145}, {\"day\": \"2020-03-11T00:00:00\", \"curve\": 44244.79612287703}, {\"day\": \"2020-03-12T00:00:00\", \"curve\": 45665.45646653837}, {\"day\": \"2020-03-13T00:00:00\", \"curve\": 47131.61112902314}, {\"day\": \"2020-03-14T00:00:00\", \"curve\": 48644.70904574175}, {\"day\": \"2020-03-15T00:00:00\", \"curve\": 50206.24478058344}, {\"day\": \"2020-03-16T00:00:00\", \"curve\": 51817.759928963285}, {\"day\": \"2020-03-17T00:00:00\", \"curve\": 53480.84456179165}, {\"day\": \"2020-03-18T00:00:00\", \"curve\": 55197.138711411964}, {\"day\": \"2020-03-19T00:00:00\", \"curve\": 56968.33390056919}, {\"day\": \"2020-03-20T00:00:00\", \"curve\": 58796.174715487236}, {\"day\": \"2020-03-21T00:00:00\", \"curve\": 60682.46042414911}, {\"day\": \"2020-03-22T00:00:00\", \"curve\": 62629.046640887944}, {\"day\": \"2020-03-23T00:00:00\", \"curve\": 64637.84703841143}, {\"day\": \"2020-03-24T00:00:00\", \"curve\": 66710.83510839459}, {\"day\": \"2020-03-25T00:00:00\", \"curve\": 68850.04597178806}, {\"day\": \"2020-03-26T00:00:00\", \"curve\": 71057.57824000015}, {\"day\": \"2020-03-27T00:00:00\", \"curve\": 73335.59592812006}, {\"day\": \"2020-03-28T00:00:00\", \"curve\": 75686.33042135817}, {\"day\": \"2020-03-29T00:00:00\", \"curve\": 78112.08249588602}, {\"day\": \"2020-03-30T00:00:00\", \"curve\": 80615.22439526362}, {\"day\": \"2020-03-31T00:00:00\", \"curve\": 83198.20196364494}, {\"day\": \"2020-04-01T00:00:00\", \"curve\": 85863.53683695346}, {\"day\": \"2020-04-02T00:00:00\", \"curve\": 88613.82869321895}, {\"day\": \"2020-04-03T00:00:00\", \"curve\": 91451.75756326331}, {\"day\": \"2020-04-04T00:00:00\", \"curve\": 94380.0862029167}, {\"day\": \"2020-04-05T00:00:00\", \"curve\": 97401.66252793722}, {\"day\": \"2020-04-06T00:00:00\", \"curve\": 100519.4221127951}, {\"day\": \"2020-04-07T00:00:00\", \"curve\": 103736.39075446688}, {\"day\": \"2020-04-08T00:00:00\", \"curve\": 107055.68710236704}, {\"day\": \"2020-04-09T00:00:00\", \"curve\": 110480.52535552123}, {\"day\": \"2020-04-10T00:00:00\", \"curve\": 114014.21802805844}, {\"day\": \"2020-04-11T00:00:00\", \"curve\": 117660.17878406905}, {\"day\": \"2020-04-12T00:00:00\", \"curve\": 121421.9253428379}, {\"day\": \"2020-04-13T00:00:00\", \"curve\": 125303.08245542178}, {\"day\": \"2020-04-14T00:00:00\", \"curve\": 129307.38495349305}, {\"day\": \"2020-04-15T00:00:00\", \"curve\": 133438.68087131807}, {\"day\": \"2020-04-16T00:00:00\", \"curve\": 137700.93464168033}, {\"day\": \"2020-04-17T00:00:00\", \"curve\": 142098.23036649133}, {\"day\": \"2020-04-18T00:00:00\", \"curve\": 146634.77516275994}, {\"day\": \"2020-04-19T00:00:00\", \"curve\": 151314.9025845082}, {\"day\": \"2020-04-20T00:00:00\", \"curve\": 156143.07612113314}, {\"day\": \"2020-04-21T00:00:00\", \"curve\": 161123.89277261516}, {\"day\": \"2020-04-22T00:00:00\", \"curve\": 166262.08670186583}, {\"day\": \"2020-04-23T00:00:00\", \"curve\": 171562.53296438922}, {\"day\": \"2020-04-24T00:00:00\", \"curve\": 177030.25131530364}, {\"day\": \"2020-04-25T00:00:00\", \"curve\": 182670.4100936288}, {\"day\": \"2020-04-26T00:00:00\", \"curve\": 188488.33018359312}, {\"day\": \"2020-04-27T00:00:00\", \"curve\": 194489.4890525491}, {\"day\": \"2020-04-28T00:00:00\", \"curve\": 200679.5248649084}, {\"day\": \"2020-04-29T00:00:00\", \"curve\": 207064.2406713141}, {\"day\": \"2020-04-30T00:00:00\", \"curve\": 213649.60867205902}, {\"day\": \"2020-05-01T00:00:00\", \"curve\": 220441.77455353888}], \"data-377f548e5480e604a871ed36b19bf97e\": [{\"day\": \"2020-03-01T00:00:00\", \"cases\": 130}, {\"day\": \"2020-03-02T00:00:00\", \"cases\": 165}, {\"day\": \"2020-03-03T00:00:00\", \"cases\": 203}, {\"day\": \"2020-03-04T00:00:00\", \"cases\": 262}, {\"day\": \"2020-03-05T00:00:00\", \"cases\": 545}, {\"day\": \"2020-03-06T00:00:00\", \"cases\": 670}, {\"day\": \"2020-03-07T00:00:00\", \"cases\": 800}, {\"day\": \"2020-03-08T00:00:00\", \"cases\": 1040}, {\"day\": \"2020-03-09T00:00:00\", \"cases\": 1224}, {\"day\": \"2020-03-10T00:00:00\", \"cases\": 1565}, {\"day\": \"2020-03-11T00:00:00\", \"cases\": 1966}, {\"day\": \"2020-03-12T00:00:00\", \"cases\": 2745}, {\"day\": \"2020-03-13T00:00:00\", \"cases\": 3675}, {\"day\": \"2020-03-14T00:00:00\", \"cases\": 4599}, {\"day\": \"2020-03-15T00:00:00\", \"cases\": 5813}, {\"day\": \"2020-03-16T00:00:00\", \"cases\": 7272}, {\"day\": \"2020-03-17T00:00:00\", \"cases\": 9367}, {\"day\": \"2020-03-18T00:00:00\", \"cases\": 12327}, {\"day\": \"2020-03-19T00:00:00\", \"cases\": 15320}, {\"day\": \"2020-03-20T00:00:00\", \"cases\": 19848}, {\"day\": \"2020-03-21T00:00:00\", \"cases\": 22364}, {\"day\": \"2020-03-22T00:00:00\", \"cases\": 24873}, {\"day\": \"2020-03-23T00:00:00\", \"cases\": 29056}, {\"day\": \"2020-03-24T00:00:00\", \"cases\": 32991}, {\"day\": \"2020-03-25T00:00:00\", \"cases\": 37323}, {\"day\": \"2020-03-26T00:00:00\", \"cases\": 43938}, {\"day\": \"2020-03-27T00:00:00\", \"cases\": 50871}, {\"day\": \"2020-03-28T00:00:00\", \"cases\": 57695}, {\"day\": \"2020-03-29T00:00:00\", \"cases\": 62435}, {\"day\": \"2020-03-30T00:00:00\", \"cases\": 66885}, {\"day\": \"2020-03-31T00:00:00\", \"cases\": 71808}, {\"day\": \"2020-04-01T00:00:00\", \"cases\": 77981}, {\"day\": \"2020-04-02T00:00:00\", \"cases\": 84794}, {\"day\": \"2020-04-03T00:00:00\", \"cases\": 91159}, {\"day\": \"2020-04-04T00:00:00\", \"cases\": 96092}, {\"day\": \"2020-04-05T00:00:00\", \"cases\": 100123}, {\"day\": \"2020-04-06T00:00:00\", \"cases\": 103375}, {\"day\": \"2020-04-07T00:00:00\", \"cases\": 107663}, {\"day\": \"2020-04-08T00:00:00\", \"cases\": 113296}, {\"day\": \"2020-04-09T00:00:00\", \"cases\": 118235}, {\"day\": \"2020-04-10T00:00:00\", \"cases\": 122171}, {\"day\": \"2020-04-11T00:00:00\", \"cases\": 125452}, {\"day\": \"2020-04-12T00:00:00\", \"cases\": 127854}, {\"day\": \"2020-04-13T00:00:00\", \"cases\": 130072}, {\"day\": \"2020-04-14T00:00:00\", \"cases\": 132210}, {\"day\": \"2020-04-15T00:00:00\", \"cases\": 134753}, {\"day\": \"2020-04-16T00:00:00\", \"cases\": 137698}, {\"day\": \"2020-04-17T00:00:00\", \"cases\": 141397}, {\"day\": \"2020-04-18T00:00:00\", \"cases\": 143724}, {\"day\": \"2020-04-19T00:00:00\", \"cases\": 145742}, {\"day\": \"2020-04-20T00:00:00\", \"cases\": 147065}, {\"day\": \"2020-04-21T00:00:00\", \"cases\": 148453}]}}, {\"mode\": \"vega-lite\"});\n",
       "</script>"
      ],
      "text/plain": [
       "alt.LayerChart(...)"
      ]
     },
     "execution_count": 6,
     "metadata": {},
     "output_type": "execute_result"
    }
   ],
   "source": [
    "infections_chart = alt.Chart(data).mark_line(point=True, color=\"red\").encode(\n",
    "    alt.X(\"monthdate(day):O\", title=\"Tag\"),\n",
    "    alt.Y(\"cases:Q\", title=\"Corona-Fallzahlen\"))\n",
    "projection_chart = alt.Chart(projection_data).mark_line(point=False).encode(\n",
    "    alt.X(\"monthdate(day):O\", title=\"Tag\"),\n",
    "    alt.Y(\"curve:Q\", title=\"Fallzahlen (Projektion)\"))\n",
    "(projection_chart + infections_chart).properties(width=600, height=400)"
   ]
  },
  {
   "cell_type": "code",
   "execution_count": 7,
   "metadata": {},
   "outputs": [
    {
     "data": {
      "text/plain": [
       "['318430', '159215', '106143']"
      ]
     },
     "execution_count": 7,
     "metadata": {},
     "output_type": "execute_result"
    }
   ],
   "source": [
    "bev_de = 83019213\n",
    "infizierte_pro_tag = [\"{:.0f}\".format(bev_de*0.7/(365*dauer)) for dauer in [0.5, 1, 1.5]]\n",
    "infizierte_pro_tag"
   ]
  },
  {
   "cell_type": "code",
   "execution_count": 8,
   "metadata": {
    "scrolled": true
   },
   "outputs": [
    {
     "name": "stderr",
     "output_type": "stream",
     "text": [
      "<ipython-input-8-4b3cd215fe44>:7: UserWarning: Boolean Series key will be reindexed to match DataFrame index.\n",
      "  c1 = np.array(data[(md1 <= data[\"day\"])][(data[\"day\"] <= md2)][\"cases\"])\n",
      "<ipython-input-8-4b3cd215fe44>:8: UserWarning: Boolean Series key will be reindexed to match DataFrame index.\n",
      "  d1 = np.array([d.toordinal() for d in data[md1 <= data[\"day\"]][data[\"day\"] <= md2][\"day\"]])\n"
     ]
    },
    {
     "name": "stdout",
     "output_type": "stream",
     "text": [
      "[1.82759729e+02 7.37485098e+05 7.94076382e-09 3.12653509e+07] \n",
      " [2.58995320e+04 7.37506189e+05 4.71178611e-09 2.93265889e+07] \n",
      " [9.33266619e+04 7.37518644e+05 1.79050690e-09 1.76960274e+07]\n"
     ]
    },
    {
     "data": {
      "text/html": [
       "\n",
       "<div id=\"altair-viz-d17ed08cf7d148468bb54fc6e46d2545\"></div>\n",
       "<script type=\"text/javascript\">\n",
       "  (function(spec, embedOpt){\n",
       "    const outputDiv = document.getElementById(\"altair-viz-d17ed08cf7d148468bb54fc6e46d2545\");\n",
       "    const paths = {\n",
       "      \"vega\": \"https://cdn.jsdelivr.net/npm//vega@5?noext\",\n",
       "      \"vega-lib\": \"https://cdn.jsdelivr.net/npm//vega-lib?noext\",\n",
       "      \"vega-lite\": \"https://cdn.jsdelivr.net/npm//vega-lite@4.0.2?noext\",\n",
       "      \"vega-embed\": \"https://cdn.jsdelivr.net/npm//vega-embed@6?noext\",\n",
       "    };\n",
       "\n",
       "    function loadScript(lib) {\n",
       "      return new Promise(function(resolve, reject) {\n",
       "        var s = document.createElement('script');\n",
       "        s.src = paths[lib];\n",
       "        s.async = true;\n",
       "        s.onload = () => resolve(paths[lib]);\n",
       "        s.onerror = () => reject(`Error loading script: ${paths[lib]}`);\n",
       "        document.getElementsByTagName(\"head\")[0].appendChild(s);\n",
       "      });\n",
       "    }\n",
       "\n",
       "    function showError(err) {\n",
       "      outputDiv.innerHTML = `<div class=\"error\" style=\"color:red;\">${err}</div>`;\n",
       "      throw err;\n",
       "    }\n",
       "\n",
       "    function displayChart(vegaEmbed) {\n",
       "      vegaEmbed(outputDiv, spec, embedOpt)\n",
       "        .catch(err => showError(`Javascript Error: ${err.message}<br>This usually means there's a typo in your chart specification. See the javascript console for the full traceback.`));\n",
       "    }\n",
       "\n",
       "    if(typeof define === \"function\" && define.amd) {\n",
       "      requirejs.config({paths});\n",
       "      require([\"vega-embed\"], displayChart, err => showError(`Error loading script: ${err.message}`));\n",
       "    } else if (typeof vegaEmbed === \"function\") {\n",
       "      displayChart(vegaEmbed);\n",
       "    } else {\n",
       "      loadScript(\"vega\")\n",
       "        .then(() => loadScript(\"vega-lite\"))\n",
       "        .then(() => loadScript(\"vega-embed\"))\n",
       "        .catch(showError)\n",
       "        .then(() => displayChart(vegaEmbed));\n",
       "    }\n",
       "  })({\"config\": {\"view\": {\"continuousWidth\": 400, \"continuousHeight\": 300}}, \"layer\": [{\"mark\": {\"type\": \"line\", \"point\": true}, \"encoding\": {\"color\": {\"type\": \"nominal\", \"field\": \"Typ\", \"legend\": {\"cornerRadius\": 7, \"fillColor\": \"white\", \"legendX\": 20, \"legendY\": 20, \"orient\": \"none\", \"padding\": 6, \"strokeColor\": \"black\", \"title\": \"Prognosen nach Ma\\u00dfnahmen\"}, \"scale\": {\"scheme\": \"set1\"}}, \"x\": {\"type\": \"temporal\", \"field\": \"Tag\", \"timeUnit\": \"monthdate\", \"title\": \"Tag\"}, \"y\": {\"type\": \"quantitative\", \"field\": \"Infektionszahlen\", \"title\": \"Infektionszahlen\"}}}, {\"mark\": \"point\", \"encoding\": {\"opacity\": {\"value\": 0}, \"x\": {\"type\": \"temporal\", \"field\": \"Tag\", \"timeUnit\": \"monthdate\", \"title\": \"Tag\"}}, \"selection\": {\"selector001\": {\"type\": \"single\", \"nearest\": true, \"on\": \"mouseover\", \"fields\": [\"Tag\"], \"empty\": \"none\"}}}, {\"mark\": \"point\", \"encoding\": {\"color\": {\"type\": \"nominal\", \"field\": \"Typ\", \"legend\": {\"cornerRadius\": 7, \"fillColor\": \"white\", \"legendX\": 20, \"legendY\": 20, \"orient\": \"none\", \"padding\": 6, \"strokeColor\": \"black\", \"title\": \"Prognosen nach Ma\\u00dfnahmen\"}, \"scale\": {\"scheme\": \"set1\"}}, \"opacity\": {\"condition\": {\"value\": 1, \"selection\": \"selector001\"}, \"value\": 0}, \"x\": {\"type\": \"temporal\", \"field\": \"Tag\", \"timeUnit\": \"monthdate\", \"title\": \"Tag\"}, \"y\": {\"type\": \"quantitative\", \"field\": \"Infektionszahlen\", \"title\": \"Infektionszahlen\"}}}, {\"mark\": {\"type\": \"rule\", \"color\": \"gray\"}, \"encoding\": {\"x\": {\"type\": \"temporal\", \"field\": \"Tag\", \"timeUnit\": \"monthdate\", \"title\": \"Tag\"}}, \"transform\": [{\"filter\": {\"selection\": \"selector001\"}}]}, {\"mark\": {\"type\": \"text\", \"align\": \"left\", \"dx\": 5, \"dy\": 5}, \"encoding\": {\"color\": {\"type\": \"nominal\", \"field\": \"Typ\", \"legend\": {\"cornerRadius\": 7, \"fillColor\": \"white\", \"legendX\": 20, \"legendY\": 20, \"orient\": \"none\", \"padding\": 6, \"strokeColor\": \"black\", \"title\": \"Prognosen nach Ma\\u00dfnahmen\"}, \"scale\": {\"scheme\": \"set1\"}}, \"text\": {\"condition\": {\"type\": \"quantitative\", \"field\": \"Infektionszahlen\", \"selection\": \"selector001\"}, \"value\": \" \"}, \"x\": {\"type\": \"temporal\", \"field\": \"Tag\", \"timeUnit\": \"monthdate\", \"title\": \"Tag\"}, \"y\": {\"type\": \"quantitative\", \"field\": \"Infektionszahlen\", \"title\": \"Infektionszahlen\"}}}], \"data\": {\"name\": \"data-c8401467a28eba2d0723a5eb23d32e6d\"}, \"height\": 400, \"width\": 850, \"$schema\": \"https://vega.github.io/schema/vega-lite/v4.0.2.json\", \"datasets\": {\"data-c8401467a28eba2d0723a5eb23d32e6d\": [{\"Tag\": \"2020-03-01T00:00:00\", \"Infektionszahlen\": 178.38677505371075, \"Typ\": \"Ungebremste Ausbreitung\"}, {\"Tag\": \"2020-03-02T00:00:00\", \"Infektionszahlen\": 228.65704159456772, \"Typ\": \"Ungebremste Ausbreitung\"}, {\"Tag\": \"2020-03-03T00:00:00\", \"Infektionszahlen\": 293.0935825533319, \"Typ\": \"Ungebremste Ausbreitung\"}, {\"Tag\": \"2020-03-04T00:00:00\", \"Infektionszahlen\": 375.688400596591, \"Typ\": \"Ungebremste Ausbreitung\"}, {\"Tag\": \"2020-03-05T00:00:00\", \"Infektionszahlen\": 481.5583747663005, \"Typ\": \"Ungebremste Ausbreitung\"}, {\"Tag\": \"2020-03-06T00:00:00\", \"Infektionszahlen\": 617.262195616483, \"Typ\": \"Ungebremste Ausbreitung\"}, {\"Tag\": \"2020-03-07T00:00:00\", \"Infektionszahlen\": 791.2065744643756, \"Typ\": \"Ungebremste Ausbreitung\"}, {\"Tag\": \"2020-03-08T00:00:00\", \"Infektionszahlen\": 1014.1668588401714, \"Typ\": \"Ungebremste Ausbreitung\"}, {\"Tag\": \"2020-03-09T00:00:00\", \"Infektionszahlen\": 1299.954251912303, \"Typ\": \"Ungebremste Ausbreitung\"}, {\"Tag\": \"2020-03-10T00:00:00\", \"Infektionszahlen\": 1666.2708797831308, \"Typ\": \"Ungebremste Ausbreitung\"}, {\"Tag\": \"2020-03-11T00:00:00\", \"Infektionszahlen\": 2135.80552829177, \"Typ\": \"Ungebremste Ausbreitung\"}, {\"Tag\": \"2020-03-12T00:00:00\", \"Infektionszahlen\": 2737.63768242644, \"Typ\": \"Ungebremste Ausbreitung\"}, {\"Tag\": \"2020-03-13T00:00:00\", \"Infektionszahlen\": 3509.0364393210725, \"Typ\": \"Ungebremste Ausbreitung\"}, {\"Tag\": \"2020-03-14T00:00:00\", \"Infektionszahlen\": 4497.765062399147, \"Typ\": \"Ungebremste Ausbreitung\"}, {\"Tag\": \"2020-03-15T00:00:00\", \"Infektionszahlen\": 5765.03283134614, \"Typ\": \"Ungebremste Ausbreitung\"}, {\"Tag\": \"2020-03-16T00:00:00\", \"Infektionszahlen\": 7389.275223423822, \"Typ\": \"Ungebremste Ausbreitung\"}, {\"Tag\": \"2020-03-17T00:00:00\", \"Infektionszahlen\": 9470.993594851894, \"Typ\": \"Ungebremste Ausbreitung\"}, {\"Tag\": \"2020-03-18T00:00:00\", \"Infektionszahlen\": 12138.94922546987, \"Typ\": \"Ungebremste Ausbreitung\"}, {\"Tag\": \"2020-03-19T00:00:00\", \"Infektionszahlen\": 15558.087304878462, \"Typ\": \"Ungebremste Ausbreitung\"}, {\"Tag\": \"2020-03-20T00:00:00\", \"Infektionszahlen\": 19939.668376853813, \"Typ\": \"Ungebremste Ausbreitung\"}, {\"Tag\": \"2020-03-21T00:00:00\", \"Infektionszahlen\": 25554.212931468654, \"Typ\": \"Ungebremste Ausbreitung\"}, {\"Tag\": \"2020-03-22T00:00:00\", \"Infektionszahlen\": 32748.025048688018, \"Typ\": \"Ungebremste Ausbreitung\"}, {\"Tag\": \"2020-03-23T00:00:00\", \"Infektionszahlen\": 41964.259697652946, \"Typ\": \"Ungebremste Ausbreitung\"}, {\"Tag\": \"2020-03-24T00:00:00\", \"Infektionszahlen\": 53769.7421215249, \"Typ\": \"Ungebremste Ausbreitung\"}, {\"Tag\": \"2020-03-25T00:00:00\", \"Infektionszahlen\": 68889.04257943304, \"Typ\": \"Ungebremste Ausbreitung\"}, {\"Tag\": \"2020-03-26T00:00:00\", \"Infektionszahlen\": 88247.65891550979, \"Typ\": \"Ungebremste Ausbreitung\"}, {\"Tag\": \"2020-03-27T00:00:00\", \"Infektionszahlen\": 113026.56053949392, \"Typ\": \"Ungebremste Ausbreitung\"}, {\"Tag\": \"2020-03-28T00:00:00\", \"Infektionszahlen\": 144730.78666262917, \"Typ\": \"Ungebremste Ausbreitung\"}, {\"Tag\": \"2020-03-29T00:00:00\", \"Infektionszahlen\": 185275.23473079034, \"Typ\": \"Ungebremste Ausbreitung\"}, {\"Tag\": \"2020-03-30T00:00:00\", \"Infektionszahlen\": 237091.15230806542, \"Typ\": \"Ungebremste Ausbreitung\"}, {\"Tag\": \"2020-03-31T00:00:00\", \"Infektionszahlen\": null, \"Typ\": \"Ungebremste Ausbreitung\"}, {\"Tag\": \"2020-04-01T00:00:00\", \"Infektionszahlen\": null, \"Typ\": \"Ungebremste Ausbreitung\"}, {\"Tag\": \"2020-04-02T00:00:00\", \"Infektionszahlen\": null, \"Typ\": \"Ungebremste Ausbreitung\"}, {\"Tag\": \"2020-04-03T00:00:00\", \"Infektionszahlen\": null, \"Typ\": \"Ungebremste Ausbreitung\"}, {\"Tag\": \"2020-04-04T00:00:00\", \"Infektionszahlen\": null, \"Typ\": \"Ungebremste Ausbreitung\"}, {\"Tag\": \"2020-04-05T00:00:00\", \"Infektionszahlen\": null, \"Typ\": \"Ungebremste Ausbreitung\"}, {\"Tag\": \"2020-04-06T00:00:00\", \"Infektionszahlen\": null, \"Typ\": \"Ungebremste Ausbreitung\"}, {\"Tag\": \"2020-04-07T00:00:00\", \"Infektionszahlen\": null, \"Typ\": \"Ungebremste Ausbreitung\"}, {\"Tag\": \"2020-04-08T00:00:00\", \"Infektionszahlen\": null, \"Typ\": \"Ungebremste Ausbreitung\"}, {\"Tag\": \"2020-04-09T00:00:00\", \"Infektionszahlen\": null, \"Typ\": \"Ungebremste Ausbreitung\"}, {\"Tag\": \"2020-04-10T00:00:00\", \"Infektionszahlen\": null, \"Typ\": \"Ungebremste Ausbreitung\"}, {\"Tag\": \"2020-04-11T00:00:00\", \"Infektionszahlen\": null, \"Typ\": \"Ungebremste Ausbreitung\"}, {\"Tag\": \"2020-04-12T00:00:00\", \"Infektionszahlen\": null, \"Typ\": \"Ungebremste Ausbreitung\"}, {\"Tag\": \"2020-04-13T00:00:00\", \"Infektionszahlen\": null, \"Typ\": \"Ungebremste Ausbreitung\"}, {\"Tag\": \"2020-04-14T00:00:00\", \"Infektionszahlen\": null, \"Typ\": \"Ungebremste Ausbreitung\"}, {\"Tag\": \"2020-04-15T00:00:00\", \"Infektionszahlen\": null, \"Typ\": \"Ungebremste Ausbreitung\"}, {\"Tag\": \"2020-04-16T00:00:00\", \"Infektionszahlen\": null, \"Typ\": \"Ungebremste Ausbreitung\"}, {\"Tag\": \"2020-04-17T00:00:00\", \"Infektionszahlen\": null, \"Typ\": \"Ungebremste Ausbreitung\"}, {\"Tag\": \"2020-04-18T00:00:00\", \"Infektionszahlen\": null, \"Typ\": \"Ungebremste Ausbreitung\"}, {\"Tag\": \"2020-04-19T00:00:00\", \"Infektionszahlen\": null, \"Typ\": \"Ungebremste Ausbreitung\"}, {\"Tag\": \"2020-04-20T00:00:00\", \"Infektionszahlen\": null, \"Typ\": \"Ungebremste Ausbreitung\"}, {\"Tag\": \"2020-04-21T00:00:00\", \"Infektionszahlen\": null, \"Typ\": \"Ungebremste Ausbreitung\"}, {\"Tag\": \"2020-04-22T00:00:00\", \"Infektionszahlen\": null, \"Typ\": \"Ungebremste Ausbreitung\"}, {\"Tag\": \"2020-04-23T00:00:00\", \"Infektionszahlen\": null, \"Typ\": \"Ungebremste Ausbreitung\"}, {\"Tag\": \"2020-04-24T00:00:00\", \"Infektionszahlen\": null, \"Typ\": \"Ungebremste Ausbreitung\"}, {\"Tag\": \"2020-04-25T00:00:00\", \"Infektionszahlen\": null, \"Typ\": \"Ungebremste Ausbreitung\"}, {\"Tag\": \"2020-04-26T00:00:00\", \"Infektionszahlen\": null, \"Typ\": \"Ungebremste Ausbreitung\"}, {\"Tag\": \"2020-04-27T00:00:00\", \"Infektionszahlen\": null, \"Typ\": \"Ungebremste Ausbreitung\"}, {\"Tag\": \"2020-04-28T00:00:00\", \"Infektionszahlen\": null, \"Typ\": \"Ungebremste Ausbreitung\"}, {\"Tag\": \"2020-04-29T00:00:00\", \"Infektionszahlen\": null, \"Typ\": \"Ungebremste Ausbreitung\"}, {\"Tag\": \"2020-04-30T00:00:00\", \"Infektionszahlen\": null, \"Typ\": \"Ungebremste Ausbreitung\"}, {\"Tag\": \"2020-05-01T00:00:00\", \"Infektionszahlen\": null, \"Typ\": \"Ungebremste Ausbreitung\"}, {\"Tag\": \"2020-05-02T00:00:00\", \"Infektionszahlen\": null, \"Typ\": \"Ungebremste Ausbreitung\"}, {\"Tag\": \"2020-05-03T00:00:00\", \"Infektionszahlen\": null, \"Typ\": \"Ungebremste Ausbreitung\"}, {\"Tag\": \"2020-05-04T00:00:00\", \"Infektionszahlen\": null, \"Typ\": \"Ungebremste Ausbreitung\"}, {\"Tag\": \"2020-05-05T00:00:00\", \"Infektionszahlen\": null, \"Typ\": \"Ungebremste Ausbreitung\"}, {\"Tag\": \"2020-05-06T00:00:00\", \"Infektionszahlen\": null, \"Typ\": \"Ungebremste Ausbreitung\"}, {\"Tag\": \"2020-03-01T00:00:00\", \"Infektionszahlen\": 1386.924634834079, \"Typ\": \"Mit Ausgangsbeschr\\u00e4nkungen\"}, {\"Tag\": \"2020-03-02T00:00:00\", \"Infektionszahlen\": 1592.4320033896436, \"Typ\": \"Mit Ausgangsbeschr\\u00e4nkungen\"}, {\"Tag\": \"2020-03-03T00:00:00\", \"Infektionszahlen\": 1828.388499662427, \"Typ\": \"Mit Ausgangsbeschr\\u00e4nkungen\"}, {\"Tag\": \"2020-03-04T00:00:00\", \"Infektionszahlen\": 2099.3050333771503, \"Typ\": \"Mit Ausgangsbeschr\\u00e4nkungen\"}, {\"Tag\": \"2020-03-05T00:00:00\", \"Infektionszahlen\": 2410.360594141426, \"Typ\": \"Mit Ausgangsbeschr\\u00e4nkungen\"}, {\"Tag\": \"2020-03-06T00:00:00\", \"Infektionszahlen\": 2767.501134949113, \"Typ\": \"Mit Ausgangsbeschr\\u00e4nkungen\"}, {\"Tag\": \"2020-03-07T00:00:00\", \"Infektionszahlen\": 3177.5530720906017, \"Typ\": \"Mit Ausgangsbeschr\\u00e4nkungen\"}, {\"Tag\": \"2020-03-08T00:00:00\", \"Infektionszahlen\": 3648.3535557804857, \"Typ\": \"Mit Ausgangsbeschr\\u00e4nkungen\"}, {\"Tag\": \"2020-03-09T00:00:00\", \"Infektionszahlen\": 4188.899981359277, \"Typ\": \"Mit Ausgangsbeschr\\u00e4nkungen\"}, {\"Tag\": \"2020-03-10T00:00:00\", \"Infektionszahlen\": 4809.521572059578, \"Typ\": \"Mit Ausgangsbeschr\\u00e4nkungen\"}, {\"Tag\": \"2020-03-11T00:00:00\", \"Infektionszahlen\": 5522.07627743164, \"Typ\": \"Mit Ausgangsbeschr\\u00e4nkungen\"}, {\"Tag\": \"2020-03-12T00:00:00\", \"Infektionszahlen\": 6340.176703810512, \"Typ\": \"Mit Ausgangsbeschr\\u00e4nkungen\"}, {\"Tag\": \"2020-03-13T00:00:00\", \"Infektionszahlen\": 7279.449332802062, \"Typ\": \"Mit Ausgangsbeschr\\u00e4nkungen\"}, {\"Tag\": \"2020-03-14T00:00:00\", \"Infektionszahlen\": 8357.831899793791, \"Typ\": \"Mit Ausgangsbeschr\\u00e4nkungen\"}, {\"Tag\": \"2020-03-15T00:00:00\", \"Infektionszahlen\": 9595.914507167729, \"Typ\": \"Mit Ausgangsbeschr\\u00e4nkungen\"}, {\"Tag\": \"2020-03-16T00:00:00\", \"Infektionszahlen\": 11017.330847576926, \"Typ\": \"Mit Ausgangsbeschr\\u00e4nkungen\"}, {\"Tag\": \"2020-03-17T00:00:00\", \"Infektionszahlen\": 12649.206823935383, \"Typ\": \"Mit Ausgangsbeschr\\u00e4nkungen\"}, {\"Tag\": \"2020-03-18T00:00:00\", \"Infektionszahlen\": 14522.67488851193, \"Typ\": \"Mit Ausgangsbeschr\\u00e4nkungen\"}, {\"Tag\": \"2020-03-19T00:00:00\", \"Infektionszahlen\": 16673.463598813858, \"Typ\": \"Mit Ausgangsbeschr\\u00e4nkungen\"}, {\"Tag\": \"2020-03-20T00:00:00\", \"Infektionszahlen\": 19142.57321908663, \"Typ\": \"Mit Ausgangsbeschr\\u00e4nkungen\"}, {\"Tag\": \"2020-03-21T00:00:00\", \"Infektionszahlen\": 21977.049700573523, \"Typ\": \"Mit Ausgangsbeschr\\u00e4nkungen\"}, {\"Tag\": \"2020-03-22T00:00:00\", \"Infektionszahlen\": 25230.87106927236, \"Typ\": \"Mit Ausgangsbeschr\\u00e4nkungen\"}, {\"Tag\": \"2020-03-23T00:00:00\", \"Infektionszahlen\": 28965.962155221434, \"Typ\": \"Mit Ausgangsbeschr\\u00e4nkungen\"}, {\"Tag\": \"2020-03-24T00:00:00\", \"Infektionszahlen\": 33253.35573041994, \"Typ\": \"Mit Ausgangsbeschr\\u00e4nkungen\"}, {\"Tag\": \"2020-03-25T00:00:00\", \"Infektionszahlen\": 38174.520500075705, \"Typ\": \"Mit Ausgangsbeschr\\u00e4nkungen\"}, {\"Tag\": \"2020-03-26T00:00:00\", \"Infektionszahlen\": 43822.879027950126, \"Typ\": \"Mit Ausgangsbeschr\\u00e4nkungen\"}, {\"Tag\": \"2020-03-27T00:00:00\", \"Infektionszahlen\": 50305.54158036862, \"Typ\": \"Mit Ausgangsbeschr\\u00e4nkungen\"}, {\"Tag\": \"2020-03-28T00:00:00\", \"Infektionszahlen\": 57745.28504672771, \"Typ\": \"Mit Ausgangsbeschr\\u00e4nkungen\"}, {\"Tag\": \"2020-03-29T00:00:00\", \"Infektionszahlen\": 66282.80952759742, \"Typ\": \"Mit Ausgangsbeschr\\u00e4nkungen\"}, {\"Tag\": \"2020-03-30T00:00:00\", \"Infektionszahlen\": 76079.30884911181, \"Typ\": \"Mit Ausgangsbeschr\\u00e4nkungen\"}, {\"Tag\": \"2020-03-31T00:00:00\", \"Infektionszahlen\": 87319.39511571385, \"Typ\": \"Mit Ausgangsbeschr\\u00e4nkungen\"}, {\"Tag\": \"2020-04-01T00:00:00\", \"Infektionszahlen\": 100214.42137227497, \"Typ\": \"Mit Ausgangsbeschr\\u00e4nkungen\"}, {\"Tag\": \"2020-04-02T00:00:00\", \"Infektionszahlen\": 115006.25038785029, \"Typ\": \"Mit Ausgangsbeschr\\u00e4nkungen\"}, {\"Tag\": \"2020-04-03T00:00:00\", \"Infektionszahlen\": 131971.52131566816, \"Typ\": \"Mit Ausgangsbeschr\\u00e4nkungen\"}, {\"Tag\": \"2020-04-04T00:00:00\", \"Infektionszahlen\": 151426.46926937756, \"Typ\": \"Mit Ausgangsbeschr\\u00e4nkungen\"}, {\"Tag\": \"2020-04-05T00:00:00\", \"Infektionszahlen\": 173732.3553253555, \"Typ\": \"Mit Ausgangsbeschr\\u00e4nkungen\"}, {\"Tag\": \"2020-04-06T00:00:00\", \"Infektionszahlen\": 199301.56562568402, \"Typ\": \"Mit Ausgangsbeschr\\u00e4nkungen\"}, {\"Tag\": \"2020-04-07T00:00:00\", \"Infektionszahlen\": 228604.43745972778, \"Typ\": \"Mit Ausgangsbeschr\\u00e4nkungen\"}, {\"Tag\": \"2020-04-08T00:00:00\", \"Infektionszahlen\": null, \"Typ\": \"Mit Ausgangsbeschr\\u00e4nkungen\"}, {\"Tag\": \"2020-04-09T00:00:00\", \"Infektionszahlen\": null, \"Typ\": \"Mit Ausgangsbeschr\\u00e4nkungen\"}, {\"Tag\": \"2020-04-10T00:00:00\", \"Infektionszahlen\": null, \"Typ\": \"Mit Ausgangsbeschr\\u00e4nkungen\"}, {\"Tag\": \"2020-04-11T00:00:00\", \"Infektionszahlen\": null, \"Typ\": \"Mit Ausgangsbeschr\\u00e4nkungen\"}, {\"Tag\": \"2020-04-12T00:00:00\", \"Infektionszahlen\": null, \"Typ\": \"Mit Ausgangsbeschr\\u00e4nkungen\"}, {\"Tag\": \"2020-04-13T00:00:00\", \"Infektionszahlen\": null, \"Typ\": \"Mit Ausgangsbeschr\\u00e4nkungen\"}, {\"Tag\": \"2020-04-14T00:00:00\", \"Infektionszahlen\": null, \"Typ\": \"Mit Ausgangsbeschr\\u00e4nkungen\"}, {\"Tag\": \"2020-04-15T00:00:00\", \"Infektionszahlen\": null, \"Typ\": \"Mit Ausgangsbeschr\\u00e4nkungen\"}, {\"Tag\": \"2020-04-16T00:00:00\", \"Infektionszahlen\": null, \"Typ\": \"Mit Ausgangsbeschr\\u00e4nkungen\"}, {\"Tag\": \"2020-04-17T00:00:00\", \"Infektionszahlen\": null, \"Typ\": \"Mit Ausgangsbeschr\\u00e4nkungen\"}, {\"Tag\": \"2020-04-18T00:00:00\", \"Infektionszahlen\": null, \"Typ\": \"Mit Ausgangsbeschr\\u00e4nkungen\"}, {\"Tag\": \"2020-04-19T00:00:00\", \"Infektionszahlen\": null, \"Typ\": \"Mit Ausgangsbeschr\\u00e4nkungen\"}, {\"Tag\": \"2020-04-20T00:00:00\", \"Infektionszahlen\": null, \"Typ\": \"Mit Ausgangsbeschr\\u00e4nkungen\"}, {\"Tag\": \"2020-04-21T00:00:00\", \"Infektionszahlen\": null, \"Typ\": \"Mit Ausgangsbeschr\\u00e4nkungen\"}, {\"Tag\": \"2020-04-22T00:00:00\", \"Infektionszahlen\": null, \"Typ\": \"Mit Ausgangsbeschr\\u00e4nkungen\"}, {\"Tag\": \"2020-04-23T00:00:00\", \"Infektionszahlen\": null, \"Typ\": \"Mit Ausgangsbeschr\\u00e4nkungen\"}, {\"Tag\": \"2020-04-24T00:00:00\", \"Infektionszahlen\": null, \"Typ\": \"Mit Ausgangsbeschr\\u00e4nkungen\"}, {\"Tag\": \"2020-04-25T00:00:00\", \"Infektionszahlen\": null, \"Typ\": \"Mit Ausgangsbeschr\\u00e4nkungen\"}, {\"Tag\": \"2020-04-26T00:00:00\", \"Infektionszahlen\": null, \"Typ\": \"Mit Ausgangsbeschr\\u00e4nkungen\"}, {\"Tag\": \"2020-04-27T00:00:00\", \"Infektionszahlen\": null, \"Typ\": \"Mit Ausgangsbeschr\\u00e4nkungen\"}, {\"Tag\": \"2020-04-28T00:00:00\", \"Infektionszahlen\": null, \"Typ\": \"Mit Ausgangsbeschr\\u00e4nkungen\"}, {\"Tag\": \"2020-04-29T00:00:00\", \"Infektionszahlen\": null, \"Typ\": \"Mit Ausgangsbeschr\\u00e4nkungen\"}, {\"Tag\": \"2020-04-30T00:00:00\", \"Infektionszahlen\": null, \"Typ\": \"Mit Ausgangsbeschr\\u00e4nkungen\"}, {\"Tag\": \"2020-05-01T00:00:00\", \"Infektionszahlen\": null, \"Typ\": \"Mit Ausgangsbeschr\\u00e4nkungen\"}, {\"Tag\": \"2020-05-02T00:00:00\", \"Infektionszahlen\": null, \"Typ\": \"Mit Ausgangsbeschr\\u00e4nkungen\"}, {\"Tag\": \"2020-05-03T00:00:00\", \"Infektionszahlen\": null, \"Typ\": \"Mit Ausgangsbeschr\\u00e4nkungen\"}, {\"Tag\": \"2020-05-04T00:00:00\", \"Infektionszahlen\": null, \"Typ\": \"Mit Ausgangsbeschr\\u00e4nkungen\"}, {\"Tag\": \"2020-05-05T00:00:00\", \"Infektionszahlen\": null, \"Typ\": \"Mit Ausgangsbeschr\\u00e4nkungen\"}, {\"Tag\": \"2020-05-06T00:00:00\", \"Infektionszahlen\": null, \"Typ\": \"Mit Ausgangsbeschr\\u00e4nkungen\"}, {\"Tag\": \"2020-03-01T00:00:00\", \"Infektionszahlen\": 32251.623166800604, \"Typ\": \"Mit Kontaktverbot\"}, {\"Tag\": \"2020-03-02T00:00:00\", \"Infektionszahlen\": 33287.91979231113, \"Typ\": \"Mit Kontaktverbot\"}, {\"Tag\": \"2020-03-03T00:00:00\", \"Infektionszahlen\": 34357.44953135322, \"Typ\": \"Mit Kontaktverbot\"}, {\"Tag\": \"2020-03-04T00:00:00\", \"Infektionszahlen\": 35461.273912042714, \"Typ\": \"Mit Kontaktverbot\"}, {\"Tag\": \"2020-03-05T00:00:00\", \"Infektionszahlen\": 36600.48809368214, \"Typ\": \"Mit Kontaktverbot\"}, {\"Tag\": \"2020-03-06T00:00:00\", \"Infektionszahlen\": 37776.22191422676, \"Typ\": \"Mit Kontaktverbot\"}, {\"Tag\": \"2020-03-07T00:00:00\", \"Infektionszahlen\": 38989.6409691925, \"Typ\": \"Mit Kontaktverbot\"}, {\"Tag\": \"2020-03-08T00:00:00\", \"Infektionszahlen\": 40241.947722871446, \"Typ\": \"Mit Kontaktverbot\"}, {\"Tag\": \"2020-03-09T00:00:00\", \"Infektionszahlen\": 41534.38265273887, \"Typ\": \"Mit Kontaktverbot\"}, {\"Tag\": \"2020-03-10T00:00:00\", \"Infektionszahlen\": 42868.225427954145, \"Typ\": \"Mit Kontaktverbot\"}, {\"Tag\": \"2020-03-11T00:00:00\", \"Infektionszahlen\": 44244.79612287703, \"Typ\": \"Mit Kontaktverbot\"}, {\"Tag\": \"2020-03-12T00:00:00\", \"Infektionszahlen\": 45665.45646653837, \"Typ\": \"Mit Kontaktverbot\"}, {\"Tag\": \"2020-03-13T00:00:00\", \"Infektionszahlen\": 47131.61112902314, \"Typ\": \"Mit Kontaktverbot\"}, {\"Tag\": \"2020-03-14T00:00:00\", \"Infektionszahlen\": 48644.70904574175, \"Typ\": \"Mit Kontaktverbot\"}, {\"Tag\": \"2020-03-15T00:00:00\", \"Infektionszahlen\": 50206.24478058344, \"Typ\": \"Mit Kontaktverbot\"}, {\"Tag\": \"2020-03-16T00:00:00\", \"Infektionszahlen\": 51817.759928963285, \"Typ\": \"Mit Kontaktverbot\"}, {\"Tag\": \"2020-03-17T00:00:00\", \"Infektionszahlen\": 53480.84456179165, \"Typ\": \"Mit Kontaktverbot\"}, {\"Tag\": \"2020-03-18T00:00:00\", \"Infektionszahlen\": 55197.138711411964, \"Typ\": \"Mit Kontaktverbot\"}, {\"Tag\": \"2020-03-19T00:00:00\", \"Infektionszahlen\": 56968.33390056919, \"Typ\": \"Mit Kontaktverbot\"}, {\"Tag\": \"2020-03-20T00:00:00\", \"Infektionszahlen\": 58796.174715487236, \"Typ\": \"Mit Kontaktverbot\"}, {\"Tag\": \"2020-03-21T00:00:00\", \"Infektionszahlen\": 60682.46042414911, \"Typ\": \"Mit Kontaktverbot\"}, {\"Tag\": \"2020-03-22T00:00:00\", \"Infektionszahlen\": 62629.046640887944, \"Typ\": \"Mit Kontaktverbot\"}, {\"Tag\": \"2020-03-23T00:00:00\", \"Infektionszahlen\": 64637.84703841143, \"Typ\": \"Mit Kontaktverbot\"}, {\"Tag\": \"2020-03-24T00:00:00\", \"Infektionszahlen\": 66710.83510839459, \"Typ\": \"Mit Kontaktverbot\"}, {\"Tag\": \"2020-03-25T00:00:00\", \"Infektionszahlen\": 68850.04597178806, \"Typ\": \"Mit Kontaktverbot\"}, {\"Tag\": \"2020-03-26T00:00:00\", \"Infektionszahlen\": 71057.57824000015, \"Typ\": \"Mit Kontaktverbot\"}, {\"Tag\": \"2020-03-27T00:00:00\", \"Infektionszahlen\": 73335.59592812006, \"Typ\": \"Mit Kontaktverbot\"}, {\"Tag\": \"2020-03-28T00:00:00\", \"Infektionszahlen\": 75686.33042135817, \"Typ\": \"Mit Kontaktverbot\"}, {\"Tag\": \"2020-03-29T00:00:00\", \"Infektionszahlen\": 78112.08249588602, \"Typ\": \"Mit Kontaktverbot\"}, {\"Tag\": \"2020-03-30T00:00:00\", \"Infektionszahlen\": 80615.22439526362, \"Typ\": \"Mit Kontaktverbot\"}, {\"Tag\": \"2020-03-31T00:00:00\", \"Infektionszahlen\": 83198.20196364494, \"Typ\": \"Mit Kontaktverbot\"}, {\"Tag\": \"2020-04-01T00:00:00\", \"Infektionszahlen\": 85863.53683695346, \"Typ\": \"Mit Kontaktverbot\"}, {\"Tag\": \"2020-04-02T00:00:00\", \"Infektionszahlen\": 88613.82869321895, \"Typ\": \"Mit Kontaktverbot\"}, {\"Tag\": \"2020-04-03T00:00:00\", \"Infektionszahlen\": 91451.75756326331, \"Typ\": \"Mit Kontaktverbot\"}, {\"Tag\": \"2020-04-04T00:00:00\", \"Infektionszahlen\": 94380.0862029167, \"Typ\": \"Mit Kontaktverbot\"}, {\"Tag\": \"2020-04-05T00:00:00\", \"Infektionszahlen\": 97401.66252793722, \"Typ\": \"Mit Kontaktverbot\"}, {\"Tag\": \"2020-04-06T00:00:00\", \"Infektionszahlen\": 100519.4221127951, \"Typ\": \"Mit Kontaktverbot\"}, {\"Tag\": \"2020-04-07T00:00:00\", \"Infektionszahlen\": 103736.39075446688, \"Typ\": \"Mit Kontaktverbot\"}, {\"Tag\": \"2020-04-08T00:00:00\", \"Infektionszahlen\": 107055.68710236704, \"Typ\": \"Mit Kontaktverbot\"}, {\"Tag\": \"2020-04-09T00:00:00\", \"Infektionszahlen\": 110480.52535552123, \"Typ\": \"Mit Kontaktverbot\"}, {\"Tag\": \"2020-04-10T00:00:00\", \"Infektionszahlen\": 114014.21802805844, \"Typ\": \"Mit Kontaktverbot\"}, {\"Tag\": \"2020-04-11T00:00:00\", \"Infektionszahlen\": 117660.17878406905, \"Typ\": \"Mit Kontaktverbot\"}, {\"Tag\": \"2020-04-12T00:00:00\", \"Infektionszahlen\": 121421.9253428379, \"Typ\": \"Mit Kontaktverbot\"}, {\"Tag\": \"2020-04-13T00:00:00\", \"Infektionszahlen\": 125303.08245542178, \"Typ\": \"Mit Kontaktverbot\"}, {\"Tag\": \"2020-04-14T00:00:00\", \"Infektionszahlen\": 129307.38495349305, \"Typ\": \"Mit Kontaktverbot\"}, {\"Tag\": \"2020-04-15T00:00:00\", \"Infektionszahlen\": 133438.68087131807, \"Typ\": \"Mit Kontaktverbot\"}, {\"Tag\": \"2020-04-16T00:00:00\", \"Infektionszahlen\": 137700.93464168033, \"Typ\": \"Mit Kontaktverbot\"}, {\"Tag\": \"2020-04-17T00:00:00\", \"Infektionszahlen\": 142098.23036649133, \"Typ\": \"Mit Kontaktverbot\"}, {\"Tag\": \"2020-04-18T00:00:00\", \"Infektionszahlen\": 146634.77516275994, \"Typ\": \"Mit Kontaktverbot\"}, {\"Tag\": \"2020-04-19T00:00:00\", \"Infektionszahlen\": 151314.9025845082, \"Typ\": \"Mit Kontaktverbot\"}, {\"Tag\": \"2020-04-20T00:00:00\", \"Infektionszahlen\": 156143.07612113314, \"Typ\": \"Mit Kontaktverbot\"}, {\"Tag\": \"2020-04-21T00:00:00\", \"Infektionszahlen\": 161123.89277261516, \"Typ\": \"Mit Kontaktverbot\"}, {\"Tag\": \"2020-04-22T00:00:00\", \"Infektionszahlen\": 166262.08670186583, \"Typ\": \"Mit Kontaktverbot\"}, {\"Tag\": \"2020-04-23T00:00:00\", \"Infektionszahlen\": 171562.53296438922, \"Typ\": \"Mit Kontaktverbot\"}, {\"Tag\": \"2020-04-24T00:00:00\", \"Infektionszahlen\": 177030.25131530364, \"Typ\": \"Mit Kontaktverbot\"}, {\"Tag\": \"2020-04-25T00:00:00\", \"Infektionszahlen\": 182670.4100936288, \"Typ\": \"Mit Kontaktverbot\"}, {\"Tag\": \"2020-04-26T00:00:00\", \"Infektionszahlen\": 188488.33018359312, \"Typ\": \"Mit Kontaktverbot\"}, {\"Tag\": \"2020-04-27T00:00:00\", \"Infektionszahlen\": 194489.4890525491, \"Typ\": \"Mit Kontaktverbot\"}, {\"Tag\": \"2020-04-28T00:00:00\", \"Infektionszahlen\": 200679.5248649084, \"Typ\": \"Mit Kontaktverbot\"}, {\"Tag\": \"2020-04-29T00:00:00\", \"Infektionszahlen\": 207064.2406713141, \"Typ\": \"Mit Kontaktverbot\"}, {\"Tag\": \"2020-04-30T00:00:00\", \"Infektionszahlen\": 213649.60867205902, \"Typ\": \"Mit Kontaktverbot\"}, {\"Tag\": \"2020-05-01T00:00:00\", \"Infektionszahlen\": 220441.77455353888, \"Typ\": \"Mit Kontaktverbot\"}, {\"Tag\": \"2020-05-02T00:00:00\", \"Infektionszahlen\": 227447.06189628327, \"Typ\": \"Mit Kontaktverbot\"}, {\"Tag\": \"2020-05-03T00:00:00\", \"Infektionszahlen\": 234671.97665285278, \"Typ\": \"Mit Kontaktverbot\"}, {\"Tag\": \"2020-05-04T00:00:00\", \"Infektionszahlen\": 242123.21169361306, \"Typ\": \"Mit Kontaktverbot\"}, {\"Tag\": \"2020-05-05T00:00:00\", \"Infektionszahlen\": 249807.65141809708, \"Typ\": \"Mit Kontaktverbot\"}, {\"Tag\": \"2020-05-06T00:00:00\", \"Infektionszahlen\": null, \"Typ\": \"Mit Kontaktverbot\"}, {\"Tag\": \"2020-03-01T00:00:00\", \"Infektionszahlen\": 130.0, \"Typ\": \"Fallzahlen\"}, {\"Tag\": \"2020-03-02T00:00:00\", \"Infektionszahlen\": 165.0, \"Typ\": \"Fallzahlen\"}, {\"Tag\": \"2020-03-03T00:00:00\", \"Infektionszahlen\": 203.0, \"Typ\": \"Fallzahlen\"}, {\"Tag\": \"2020-03-04T00:00:00\", \"Infektionszahlen\": 262.0, \"Typ\": \"Fallzahlen\"}, {\"Tag\": \"2020-03-05T00:00:00\", \"Infektionszahlen\": 545.0, \"Typ\": \"Fallzahlen\"}, {\"Tag\": \"2020-03-06T00:00:00\", \"Infektionszahlen\": 670.0, \"Typ\": \"Fallzahlen\"}, {\"Tag\": \"2020-03-07T00:00:00\", \"Infektionszahlen\": 800.0, \"Typ\": \"Fallzahlen\"}, {\"Tag\": \"2020-03-08T00:00:00\", \"Infektionszahlen\": 1040.0, \"Typ\": \"Fallzahlen\"}, {\"Tag\": \"2020-03-09T00:00:00\", \"Infektionszahlen\": 1224.0, \"Typ\": \"Fallzahlen\"}, {\"Tag\": \"2020-03-10T00:00:00\", \"Infektionszahlen\": 1565.0, \"Typ\": \"Fallzahlen\"}, {\"Tag\": \"2020-03-11T00:00:00\", \"Infektionszahlen\": 1966.0, \"Typ\": \"Fallzahlen\"}, {\"Tag\": \"2020-03-12T00:00:00\", \"Infektionszahlen\": 2745.0, \"Typ\": \"Fallzahlen\"}, {\"Tag\": \"2020-03-13T00:00:00\", \"Infektionszahlen\": 3675.0, \"Typ\": \"Fallzahlen\"}, {\"Tag\": \"2020-03-14T00:00:00\", \"Infektionszahlen\": 4599.0, \"Typ\": \"Fallzahlen\"}, {\"Tag\": \"2020-03-15T00:00:00\", \"Infektionszahlen\": 5813.0, \"Typ\": \"Fallzahlen\"}, {\"Tag\": \"2020-03-16T00:00:00\", \"Infektionszahlen\": 7272.0, \"Typ\": \"Fallzahlen\"}, {\"Tag\": \"2020-03-17T00:00:00\", \"Infektionszahlen\": 9367.0, \"Typ\": \"Fallzahlen\"}, {\"Tag\": \"2020-03-18T00:00:00\", \"Infektionszahlen\": 12327.0, \"Typ\": \"Fallzahlen\"}, {\"Tag\": \"2020-03-19T00:00:00\", \"Infektionszahlen\": 15320.0, \"Typ\": \"Fallzahlen\"}, {\"Tag\": \"2020-03-20T00:00:00\", \"Infektionszahlen\": 19848.0, \"Typ\": \"Fallzahlen\"}, {\"Tag\": \"2020-03-21T00:00:00\", \"Infektionszahlen\": 22364.0, \"Typ\": \"Fallzahlen\"}, {\"Tag\": \"2020-03-22T00:00:00\", \"Infektionszahlen\": 24873.0, \"Typ\": \"Fallzahlen\"}, {\"Tag\": \"2020-03-23T00:00:00\", \"Infektionszahlen\": 29056.0, \"Typ\": \"Fallzahlen\"}, {\"Tag\": \"2020-03-24T00:00:00\", \"Infektionszahlen\": 32991.0, \"Typ\": \"Fallzahlen\"}, {\"Tag\": \"2020-03-25T00:00:00\", \"Infektionszahlen\": 37323.0, \"Typ\": \"Fallzahlen\"}, {\"Tag\": \"2020-03-26T00:00:00\", \"Infektionszahlen\": 43938.0, \"Typ\": \"Fallzahlen\"}, {\"Tag\": \"2020-03-27T00:00:00\", \"Infektionszahlen\": 50871.0, \"Typ\": \"Fallzahlen\"}, {\"Tag\": \"2020-03-28T00:00:00\", \"Infektionszahlen\": 57695.0, \"Typ\": \"Fallzahlen\"}, {\"Tag\": \"2020-03-29T00:00:00\", \"Infektionszahlen\": 62435.0, \"Typ\": \"Fallzahlen\"}, {\"Tag\": \"2020-03-30T00:00:00\", \"Infektionszahlen\": 66885.0, \"Typ\": \"Fallzahlen\"}, {\"Tag\": \"2020-03-31T00:00:00\", \"Infektionszahlen\": 71808.0, \"Typ\": \"Fallzahlen\"}, {\"Tag\": \"2020-04-01T00:00:00\", \"Infektionszahlen\": 77981.0, \"Typ\": \"Fallzahlen\"}, {\"Tag\": \"2020-04-02T00:00:00\", \"Infektionszahlen\": 84794.0, \"Typ\": \"Fallzahlen\"}, {\"Tag\": \"2020-04-03T00:00:00\", \"Infektionszahlen\": 91159.0, \"Typ\": \"Fallzahlen\"}, {\"Tag\": \"2020-04-04T00:00:00\", \"Infektionszahlen\": 96092.0, \"Typ\": \"Fallzahlen\"}, {\"Tag\": \"2020-04-05T00:00:00\", \"Infektionszahlen\": 100123.0, \"Typ\": \"Fallzahlen\"}, {\"Tag\": \"2020-04-06T00:00:00\", \"Infektionszahlen\": 103375.0, \"Typ\": \"Fallzahlen\"}, {\"Tag\": \"2020-04-07T00:00:00\", \"Infektionszahlen\": 107663.0, \"Typ\": \"Fallzahlen\"}, {\"Tag\": \"2020-04-08T00:00:00\", \"Infektionszahlen\": 113296.0, \"Typ\": \"Fallzahlen\"}, {\"Tag\": \"2020-04-09T00:00:00\", \"Infektionszahlen\": 118235.0, \"Typ\": \"Fallzahlen\"}, {\"Tag\": \"2020-04-10T00:00:00\", \"Infektionszahlen\": 122171.0, \"Typ\": \"Fallzahlen\"}, {\"Tag\": \"2020-04-11T00:00:00\", \"Infektionszahlen\": 125452.0, \"Typ\": \"Fallzahlen\"}, {\"Tag\": \"2020-04-12T00:00:00\", \"Infektionszahlen\": 127854.0, \"Typ\": \"Fallzahlen\"}, {\"Tag\": \"2020-04-13T00:00:00\", \"Infektionszahlen\": 130072.0, \"Typ\": \"Fallzahlen\"}, {\"Tag\": \"2020-04-14T00:00:00\", \"Infektionszahlen\": 132210.0, \"Typ\": \"Fallzahlen\"}, {\"Tag\": \"2020-04-15T00:00:00\", \"Infektionszahlen\": 134753.0, \"Typ\": \"Fallzahlen\"}, {\"Tag\": \"2020-04-16T00:00:00\", \"Infektionszahlen\": 137698.0, \"Typ\": \"Fallzahlen\"}, {\"Tag\": \"2020-04-17T00:00:00\", \"Infektionszahlen\": 141397.0, \"Typ\": \"Fallzahlen\"}, {\"Tag\": \"2020-04-18T00:00:00\", \"Infektionszahlen\": 143724.0, \"Typ\": \"Fallzahlen\"}, {\"Tag\": \"2020-04-19T00:00:00\", \"Infektionszahlen\": 145742.0, \"Typ\": \"Fallzahlen\"}, {\"Tag\": \"2020-04-20T00:00:00\", \"Infektionszahlen\": 147065.0, \"Typ\": \"Fallzahlen\"}, {\"Tag\": \"2020-04-21T00:00:00\", \"Infektionszahlen\": 148453.0, \"Typ\": \"Fallzahlen\"}]}}, {\"mode\": \"vega-lite\"});\n",
       "</script>"
      ],
      "text/plain": [
       "alt.LayerChart(...)"
      ]
     },
     "execution_count": 8,
     "metadata": {},
     "output_type": "execute_result"
    }
   ],
   "source": [
    "data = pd.read_csv(\"corona_infections.csv\", header=0, names=[\"day\", \"cases\"])\n",
    "data[\"day\"] = [dt.datetime.strptime(d + ' 2020', \"%b %d %Y\") for d in data[\"day\"]]\n",
    "md1 = dt.datetime(year=2020, month=3, day=20)\n",
    "md2 = dt.datetime(year=2020, month=3, day=28)\n",
    "c0 = np.array(data[data[\"day\"] <= md1][\"cases\"])\n",
    "d0 = np.array([d.toordinal() for d in data[data[\"day\"] <= md1][\"day\"]])\n",
    "c1 = np.array(data[(md1 <= data[\"day\"])][(data[\"day\"] <= md2)][\"cases\"])\n",
    "d1 = np.array([d.toordinal() for d in data[md1 <= data[\"day\"]][data[\"day\"] <= md2][\"day\"]])\n",
    "c2 = np.array(data[md2 <= data[\"day\"]][\"cases\"])\n",
    "d2 = np.array([d.toordinal() for d in data[md2 <= data[\"day\"]][\"day\"]])\n",
    "par0, _ = curve_fit(\n",
    "    corona_curve, \n",
    "    xdata=d0, \n",
    "    ydata=c0, \n",
    "    p0=[c0[0], dt.datetime(year=2020, month=3, day=1).toordinal(), 8e-9, 5.6e7],\n",
    "    bounds=(\n",
    "        [0, d0[0], 1e-11, c0[-1]], \n",
    "        [c0[-1], dt.datetime(year=2021, month=6, day=1).toordinal(), 1e-8, 8.35e7])\n",
    ")\n",
    "par1, _ = curve_fit(\n",
    "    corona_curve, \n",
    "    xdata=d1, \n",
    "    ydata=c1, \n",
    "    p0=[c1[0], dt.datetime(year=2020, month=3, day=20).toordinal(), 8e-9, 5.6e7],\n",
    "    bounds=(\n",
    "        [0, d1[0], 1e-11, c1[-1]], \n",
    "        [c1[-1], dt.datetime(year=2021, month=6, day=1).toordinal(), 1e-8, 8.35e7])\n",
    ")\n",
    "par2, _ = curve_fit(\n",
    "    corona_curve, \n",
    "    xdata=d2, \n",
    "    ydata=c2, \n",
    "    p0=[c2[0], dt.datetime(year=2020, month=3, day=28).toordinal(), 8e-9, 5.6e7],\n",
    "    bounds=(\n",
    "        [0, d2[0], 1e-11, c2[-1]], \n",
    "        [c2[-1], dt.datetime(year=2021, month=6, day=1).toordinal(), 1e-8, 8.35e7])\n",
    ")\n",
    "print(par0, \"\\n\", par1, \"\\n\", par2)\n",
    "data = data[data[\"day\"] >= dt.datetime(year=2020, month=3, day=1)]\n",
    "data = data.rename(columns={\"day\": \"Tag\", \"cases\": \"Infektionszahlen\"})\n",
    "data[\"Typ\"] = [\"Fallzahlen\" for d in data[\"Tag\"]]\n",
    "data[\"Typ\"] = data[\"Typ\"].astype(str)\n",
    "data_count = len(data) + 15\n",
    "for par, t in [(par0, \"Ungebremste Ausbreitung\"), \n",
    "               (par1, \"Mit Ausgangsbeschränkungen\"), \n",
    "               (par2, \"Mit Kontaktverbot\")]:\n",
    "    for i in range(data_count):\n",
    "        curve_value = corona_curve((list(data[\"Tag\"])[0] + dt.timedelta(days=i)).toordinal(), *par)\n",
    "        data = data.append(pd.DataFrame(\n",
    "            [[list(data[\"Tag\"])[0] + dt.timedelta(days=i), \n",
    "              curve_value if curve_value < 250000 else None,\n",
    "              t]],\n",
    "            columns=(\"Tag\", \"Infektionszahlen\", \"Typ\")\n",
    "        ), ignore_index=True)\n",
    "data = data.tail(len(data)-data_count+15).append(data.head(data_count-15), ignore_index=True)\n",
    "line = alt.Chart(data).mark_line(point=True).encode(\n",
    "    alt.X(\"monthdate(Tag)\", title=\"Tag\"),\n",
    "    alt.Y(\"Infektionszahlen:Q\", title=\"Infektionszahlen\"),\n",
    "    color=alt.Color(\"Typ:N\", \n",
    "                    scale=alt.Scale(scheme=\"set1\"),\n",
    "                    legend=alt.Legend(\n",
    "        orient=\"none\", legendX=20, legendY=20,\n",
    "        fillColor=\"white\", strokeColor=\"black\", cornerRadius=7, padding=6,\n",
    "        title=\"Prognosen nach Maßnahmen\"))\n",
    ")\n",
    "nearest = alt.selection(type='single', nearest=True, on='mouseover',\n",
    "                        fields=['Tag'], empty='none')\n",
    "selectors = alt.Chart(data).mark_point().encode(\n",
    "    alt.X(\"monthdate(Tag)\", title=\"Tag\"),\n",
    "    opacity=alt.value(0),\n",
    ").add_selection(nearest)\n",
    "points = line.mark_point().encode(\n",
    "    opacity=alt.condition(nearest, alt.value(1), alt.value(0))\n",
    ")\n",
    "text = line.mark_text(align='left', dx=5, dy=5).encode(\n",
    "    text=alt.condition(nearest, 'Infektionszahlen:Q', alt.value(' '))\n",
    ")\n",
    "rules = alt.Chart(data).mark_rule(color='gray').encode(\n",
    "    alt.X(\"monthdate(Tag)\", title=\"Tag\"),\n",
    ").transform_filter(nearest)\n",
    "alt.layer(\n",
    "    line, selectors, points, rules, text\n",
    ").properties(width=850, height=400)"
   ]
  },
  {
   "cell_type": "code",
   "execution_count": null,
   "metadata": {},
   "outputs": [],
   "source": []
  }
 ],
 "metadata": {
  "kernelspec": {
   "display_name": "Python 3",
   "language": "python",
   "name": "python3"
  },
  "language_info": {
   "codemirror_mode": {
    "name": "ipython",
    "version": 3
   },
   "file_extension": ".py",
   "mimetype": "text/x-python",
   "name": "python",
   "nbconvert_exporter": "python",
   "pygments_lexer": "ipython3",
   "version": "3.8.2"
  }
 },
 "nbformat": 4,
 "nbformat_minor": 4
}
